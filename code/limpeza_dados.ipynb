{
  "nbformat": 4,
  "nbformat_minor": 0,
  "metadata": {
    "colab": {
      "provenance": [],
      "collapsed_sections": [
        "JyEbAkI5RJ4w",
        "lNGsaG61UBKV",
        "UKVgMUX5rIIH",
        "HFoe9BJjzB4Z",
        "hiL-ye57KIqQ"
      ]
    },
    "kernelspec": {
      "name": "python3",
      "display_name": "Python 3"
    },
    "language_info": {
      "name": "python"
    }
  },
  "cells": [
    {
      "cell_type": "markdown",
      "source": [
        "# Carregar, limpar e organizar um conjunto de dados usando o pacote pandas\n",
        "\n",
        "Códigos apresentados no vídeo [Limpeza de dados em python: pandas no google colab](https://https://www.youtube.com/watch?v=0SgghZ5S87o)"
      ],
      "metadata": {
        "id": "s2lpaw8VWhsy"
      }
    },
    {
      "cell_type": "markdown",
      "source": [
        "## Dados de seguro rural\n",
        "\n",
        "Link: https://dados.agricultura.gov.br/dataset/sisser3\n",
        "\n",
        "No site há dados disponíveis de 2006 a 2022."
      ],
      "metadata": {
        "id": "KzSmkPEYWgBA"
      }
    },
    {
      "cell_type": "markdown",
      "source": [
        "Importar pacotes necessários:"
      ],
      "metadata": {
        "id": "cb0NZwYEWtvc"
      }
    },
    {
      "cell_type": "code",
      "metadata": {
        "id": "RsR3LySiSeoy"
      },
      "source": [
        "import pandas as pd\n",
        "import numpy as np\n",
        "from google.colab import drive, files\n",
        "import os\n",
        "\n",
        "pd.options.display.float_format = '{:.2f}'.format    # pandas: para todos os números aparecerem com duas casas decimais"
      ],
      "execution_count": null,
      "outputs": []
    },
    {
      "cell_type": "code",
      "source": [
        "import sys\n",
        "print(sys.version)\n",
        "print(pd.__version__)"
      ],
      "metadata": {
        "id": "uA_4vnw7OSHc"
      },
      "execution_count": null,
      "outputs": []
    },
    {
      "cell_type": "markdown",
      "source": [
        "É possível baixar os dados com o link ou baixar o conjunto de dados para o computador e salvar no google drive."
      ],
      "metadata": {
        "id": "884Q620NF04Z"
      }
    },
    {
      "cell_type": "code",
      "source": [
        "# download diretamente do site\n",
        "# !wget https://dados.agricultura.gov.br/dataset/baefdc68-9bad-4204-83e8-f2888b79ab48/resource/e6f95018-6c19-426a-9a62-fc9e5bfc721b/download/psrdadosabertos2016a2021excel.xlsx\n",
        "# dados = pd.read_excel(\"psrdadosabertos2016a2021excel.xlsx\", decimal=',')"
      ],
      "metadata": {
        "id": "R7x92kYZF0KE"
      },
      "execution_count": null,
      "outputs": []
    },
    {
      "cell_type": "markdown",
      "source": [
        "Eu já salvei os dados no meu *google drive* e vou acessar a partir dele:"
      ],
      "metadata": {
        "id": "Fbuj7b-Eq77m"
      }
    },
    {
      "cell_type": "code",
      "source": [
        "drive.mount('/content/drive')\n",
        "os.chdir('/content/drive/My Drive/')\n",
        "dados = pd.read_excel(\"psrdadosabertos2016a2021excel.xlsx\", decimal=',')"
      ],
      "metadata": {
        "id": "cpbm8Qje85Xn"
      },
      "execution_count": null,
      "outputs": []
    },
    {
      "cell_type": "code",
      "source": [
        "# número de linhas e colunas\n",
        "dados.shape"
      ],
      "metadata": {
        "id": "VbFYxRGqIfz0"
      },
      "execution_count": null,
      "outputs": []
    },
    {
      "cell_type": "markdown",
      "source": [
        "Cada uma das 698.675 linhas é uma apólice contratada por um produtor."
      ],
      "metadata": {
        "id": "D6cU8kCBKqaQ"
      }
    },
    {
      "cell_type": "markdown",
      "source": [
        "Vamos selecionar uma parte menor dos dados (apenas dados de 2021) para que possamos trabalhar com um conjunto menor:"
      ],
      "metadata": {
        "id": "2ROYFqUAPTRV"
      }
    },
    {
      "cell_type": "code",
      "source": [
        "dados21 = dados[dados['ANO_APOLICE'] == 2021]\n",
        "dados21.shape"
      ],
      "metadata": {
        "id": "5nl8d7fGzhRW"
      },
      "execution_count": null,
      "outputs": []
    },
    {
      "cell_type": "markdown",
      "source": [
        "## Visão geral dos dados\n"
      ],
      "metadata": {
        "id": "50nLslNDLJPw"
      }
    },
    {
      "cell_type": "markdown",
      "source": [
        "Neste notebook vamos trabalhar apenas com os dados de 2021. Eles estão salvos no objeto 'dados21'. Vou fazer uma  cópia deles num objeto chamado 'seg':"
      ],
      "metadata": {
        "id": "Uxqgn3Q0enFd"
      }
    },
    {
      "cell_type": "code",
      "source": [
        "seg = dados21.copy()"
      ],
      "metadata": {
        "id": "06edC7HMfGqR"
      },
      "execution_count": null,
      "outputs": []
    },
    {
      "cell_type": "code",
      "source": [
        "# número de linhas e colunas (observações e variáveis)\n",
        "seg.shape"
      ],
      "metadata": {
        "id": "dlNzFaC8UeSI"
      },
      "execution_count": null,
      "outputs": []
    },
    {
      "cell_type": "code",
      "source": [
        "# para visualizar até 50 colunas ou o número desejado\n",
        "pd.set_option('display.max_columns', 50)"
      ],
      "metadata": {
        "id": "7hSmE3ZVPsAN"
      },
      "execution_count": null,
      "outputs": []
    },
    {
      "cell_type": "code",
      "source": [
        "seg.head(10)"
      ],
      "metadata": {
        "id": "d1fwjPeetQiY"
      },
      "execution_count": null,
      "outputs": []
    },
    {
      "cell_type": "code",
      "source": [
        "seg.tail()"
      ],
      "metadata": {
        "id": "NP1b3kRIP_bV"
      },
      "execution_count": null,
      "outputs": []
    },
    {
      "cell_type": "code",
      "source": [
        "seg.sample(10)"
      ],
      "metadata": {
        "id": "DRIoMd94tRy1"
      },
      "execution_count": null,
      "outputs": []
    },
    {
      "cell_type": "markdown",
      "source": [
        "Se quisermos iniciar os índices das linhas a partir do zero:"
      ],
      "metadata": {
        "id": "XCmZ440rse6y"
      }
    },
    {
      "cell_type": "code",
      "source": [
        "seg = seg.reset_index(drop=True)"
      ],
      "metadata": {
        "id": "b9QY5G5Pry1s"
      },
      "execution_count": null,
      "outputs": []
    },
    {
      "cell_type": "code",
      "source": [
        "seg.head()"
      ],
      "metadata": {
        "id": "Qtdwp0bjr2H8"
      },
      "execution_count": null,
      "outputs": []
    },
    {
      "cell_type": "code",
      "source": [
        "seg.columns"
      ],
      "metadata": {
        "id": "1jvRIKy9QMFN"
      },
      "execution_count": null,
      "outputs": []
    },
    {
      "cell_type": "code",
      "source": [
        "seg.info()"
      ],
      "metadata": {
        "id": "Eox-2PRmQROG"
      },
      "execution_count": null,
      "outputs": []
    },
    {
      "cell_type": "markdown",
      "source": [
        "## Filtrando linhas\n",
        "\n",
        "Não salvaremos os dados filtrados. Faremos apenas algumas consultas."
      ],
      "metadata": {
        "id": "JyEbAkI5RJ4w"
      }
    },
    {
      "cell_type": "code",
      "source": [
        "# no .iloc usamos os índices\n",
        "seg.iloc[:10,:5]"
      ],
      "metadata": {
        "id": "Z4dkftL7RJWg"
      },
      "execution_count": null,
      "outputs": []
    },
    {
      "cell_type": "code",
      "source": [
        "# no .loc usamos os nomes\n",
        "seg.loc[:, ['NR_AREA_TOTAL', 'NR_PRODUTIVIDADE_ESTIMADA', 'VL_LIMITE_GARANTIA',\n",
        "            'VL_PREMIO_LIQUIDO', 'VL_SUBVENCAO_FEDERAL', 'NR_APOLICE']]"
      ],
      "metadata": {
        "id": "bfLxLdFWLQJZ"
      },
      "execution_count": null,
      "outputs": []
    },
    {
      "cell_type": "code",
      "source": [
        "seg.loc[seg['NM_MUNICIPIO_PROPRIEDADE'] == 'Varginha']"
      ],
      "metadata": {
        "id": "1gWvA-bMRkRc"
      },
      "execution_count": null,
      "outputs": []
    },
    {
      "cell_type": "code",
      "source": [
        "seg.loc[(seg['NM_MUNICIPIO_PROPRIEDADE'] == 'Varginha') & (seg['NM_CULTURA_GLOBAL'] == 'Café')]"
      ],
      "metadata": {
        "id": "VWvLKrvtLatX"
      },
      "execution_count": null,
      "outputs": []
    },
    {
      "cell_type": "code",
      "source": [
        "# o mesmo com query\n",
        "seg.query('(NM_MUNICIPIO_PROPRIEDADE == \"Varginha\") and (NM_CULTURA_GLOBAL == \"Café\")')"
      ],
      "metadata": {
        "id": "NLlCn9soTEBG"
      },
      "execution_count": null,
      "outputs": []
    },
    {
      "cell_type": "markdown",
      "source": [
        "## Resumindo os dados"
      ],
      "metadata": {
        "id": "lNGsaG61UBKV"
      }
    },
    {
      "cell_type": "code",
      "source": [
        "seg.describe()"
      ],
      "metadata": {
        "id": "4LOIVYBjLlIC"
      },
      "execution_count": null,
      "outputs": []
    },
    {
      "cell_type": "code",
      "source": [
        "# quantis\n",
        "seg['NR_AREA_TOTAL'].quantile([0.25, 0.5, 0.75])"
      ],
      "metadata": {
        "id": "tUYbwVCXTqt4"
      },
      "execution_count": null,
      "outputs": []
    },
    {
      "cell_type": "code",
      "source": [
        "# algumas medidas estatísticas para algumas variáveis\n",
        "seg[['VL_LIMITE_GARANTIA', 'VL_PREMIO_LIQUIDO', 'VL_SUBVENCAO_FEDERAL']].agg(['mean', 'min', 'max'])"
      ],
      "metadata": {
        "id": "0RD2uEkdUDg4"
      },
      "execution_count": null,
      "outputs": []
    },
    {
      "cell_type": "code",
      "source": [
        "# mostrar as ocorrências de determinada variável\n",
        "seg['NM_RAZAO_SOCIAL'].unique()"
      ],
      "metadata": {
        "id": "bP5TwGihU4yo"
      },
      "execution_count": null,
      "outputs": []
    },
    {
      "cell_type": "code",
      "source": [
        "# mostrar o número de ocorrências de cada categoria de uma variável\n",
        "# normalize=True faz o cálculo da porcentagem\n",
        "seg['NM_RAZAO_SOCIAL'].value_counts(normalize=True)"
      ],
      "metadata": {
        "id": "ied2ZfnUVITL"
      },
      "execution_count": null,
      "outputs": []
    },
    {
      "cell_type": "markdown",
      "source": [
        "## Limpeza e organização dos dados"
      ],
      "metadata": {
        "id": "UKVgMUX5rIIH"
      }
    },
    {
      "cell_type": "markdown",
      "source": [
        "Lidar com dados faltantes:"
      ],
      "metadata": {
        "id": "gU5yvwp7T6Lw"
      }
    },
    {
      "cell_type": "code",
      "source": [
        "# sem sum() temos apenas True e False\n",
        "seg.isna().sum()"
      ],
      "metadata": {
        "id": "s1u4tF12T8K_"
      },
      "execution_count": null,
      "outputs": []
    },
    {
      "cell_type": "markdown",
      "source": [
        "Substituir faltantes por algum valor (se for necessário):"
      ],
      "metadata": {
        "id": "ZllXAsi3Ua-A"
      }
    },
    {
      "cell_type": "code",
      "source": [
        "seg = seg.fillna(0)"
      ],
      "metadata": {
        "id": "NW8oL4BXUd9N"
      },
      "execution_count": null,
      "outputs": []
    },
    {
      "cell_type": "markdown",
      "source": [
        "Substituir faltantes de uma variável pela média dessa variável (se for necessário):"
      ],
      "metadata": {
        "id": "-6g46vRhUuri"
      }
    },
    {
      "cell_type": "code",
      "source": [
        "seg['VL_PREMIO_LIQUIDO'] = seg['VL_PREMIO_LIQUIDO'].fillna(seg['VL_PREMIO_LIQUIDO'].mean())"
      ],
      "metadata": {
        "id": "DoP8xZVaUzaT"
      },
      "execution_count": null,
      "outputs": []
    },
    {
      "cell_type": "markdown",
      "source": [
        "Para realizar a limpeza e organização dos dados, vamos criar um novo objeto chamado 'df' para que os dados originais continuem no objeto 'seg':"
      ],
      "metadata": {
        "id": "jcHxKR29rxiP"
      }
    },
    {
      "cell_type": "code",
      "source": [
        "df = seg.replace(['-', '...', 'X'], 0)"
      ],
      "metadata": {
        "id": "k0O7yG65Seo9"
      },
      "execution_count": null,
      "outputs": []
    },
    {
      "cell_type": "code",
      "source": [
        "# se todas as linhas forem NaN, apagar a linha\n",
        "df.dropna(inplace=True, how='all')"
      ],
      "metadata": {
        "id": "cTxpoDo0fLQK"
      },
      "execution_count": null,
      "outputs": []
    },
    {
      "cell_type": "code",
      "source": [
        "# se qualquer linha for NaN, apagar a linha\n",
        "df.dropna(inplace=True)"
      ],
      "metadata": {
        "id": "1eGd4Jt1fQrD"
      },
      "execution_count": null,
      "outputs": []
    },
    {
      "cell_type": "code",
      "source": [
        "df.shape"
      ],
      "metadata": {
        "id": "wH7q9KOIUbb-"
      },
      "execution_count": null,
      "outputs": []
    },
    {
      "cell_type": "code",
      "source": [
        "df.columns"
      ],
      "metadata": {
        "id": "7M22CQe2aGyL"
      },
      "execution_count": null,
      "outputs": []
    },
    {
      "cell_type": "markdown",
      "source": [
        "Criação de nova coluna: vamos calcular o tempo de vigência (em dias) de cada apólice e colocar essa informação em uma nova coluna chamada 'duracao'."
      ],
      "metadata": {
        "id": "qnfY3kxkQYy8"
      }
    },
    {
      "cell_type": "code",
      "source": [
        "df['DT_FIM_VIGENCIA'] = pd.to_datetime(df['DT_FIM_VIGENCIA'], errors = 'coerce')\n",
        "df['duracao'] = (df['DT_FIM_VIGENCIA'] - df['DT_INICIO_VIGENCIA']).dt.days"
      ],
      "metadata": {
        "id": "Q-xnJW39VbJV"
      },
      "execution_count": null,
      "outputs": []
    },
    {
      "cell_type": "code",
      "source": [
        "# ordenar os valores dessa nova coluna\n",
        "df.sort_values('duracao', ascending=False)"
      ],
      "metadata": {
        "id": "9ZF7UvkLYHwE"
      },
      "execution_count": null,
      "outputs": []
    },
    {
      "cell_type": "code",
      "source": [
        "# checar se algum NaN apareceu\n",
        "df.isna().sum()"
      ],
      "metadata": {
        "id": "QHlzYd7KgTkE"
      },
      "execution_count": null,
      "outputs": []
    },
    {
      "cell_type": "code",
      "source": [
        "# verificar qual é o NaN que apareceu\n",
        "df[df.isna().any(axis=1)]"
      ],
      "metadata": {
        "id": "pqUdxwmAgq2O"
      },
      "execution_count": null,
      "outputs": []
    },
    {
      "cell_type": "code",
      "source": [
        "# retirar a linha com NaN\n",
        "df.dropna(inplace=True)"
      ],
      "metadata": {
        "id": "uh2cwbr_g69q"
      },
      "execution_count": null,
      "outputs": []
    },
    {
      "cell_type": "markdown",
      "source": [
        "Algumas colunas não serão usadas, vamos retirá-las com a função *drop*:"
      ],
      "metadata": {
        "id": "ZHBNKsV7rMfm"
      }
    },
    {
      "cell_type": "code",
      "source": [
        "retirar = ['CD_PROCESSO_SUSEP', 'NR_PROPOSTA', 'ID_PROPOSTA',\n",
        "       'DT_PROPOSTA', 'DT_INICIO_VIGENCIA', 'DT_FIM_VIGENCIA', 'NM_SEGURADO',\n",
        "       'NR_DOCUMENTO_SEGURADO','LATITUDE', 'NR_GRAU_LAT', 'NR_MIN_LAT',\n",
        "       'NR_SEG_LAT', 'LONGITUDE', 'NR_GRAU_LONG', 'NR_MIN_LONG', 'NR_SEG_LONG',\n",
        "       'NR_DECIMAL_LATITUDE', 'NR_DECIMAL_LONGITUDE', 'DT_APOLICE', 'ANO_APOLICE']\n",
        "df = df.drop(retirar, axis=1)"
      ],
      "metadata": {
        "id": "iNws8NFsZmln"
      },
      "execution_count": null,
      "outputs": []
    },
    {
      "cell_type": "code",
      "source": [
        "df.columns"
      ],
      "metadata": {
        "id": "KhoAzfpUq1il"
      },
      "execution_count": null,
      "outputs": []
    },
    {
      "cell_type": "markdown",
      "source": [
        "A variável 'EVENTO_PREPONDERANTE' possui alguns caracteres descnecessários ('\\xa0'). Vamos corrigir isso:"
      ],
      "metadata": {
        "id": "_lwJ0yulf6qL"
      }
    },
    {
      "cell_type": "code",
      "source": [
        "df['EVENTO_PREPONDERANTE'].unique()"
      ],
      "metadata": {
        "id": "qs0DgP5huCMa"
      },
      "execution_count": null,
      "outputs": []
    },
    {
      "cell_type": "code",
      "source": [
        "df['EVENTO_PREPONDERANTE'] = df['EVENTO_PREPONDERANTE'].str.split().str.join(' ')"
      ],
      "metadata": {
        "id": "4rB0XLFmlAPD"
      },
      "execution_count": null,
      "outputs": []
    },
    {
      "cell_type": "code",
      "source": [
        "df['EVENTO_PREPONDERANTE'] = df['EVENTO_PREPONDERANTE'].replace([np.NaN], '0')"
      ],
      "metadata": {
        "id": "Hw87W495Q4_7"
      },
      "execution_count": null,
      "outputs": []
    },
    {
      "cell_type": "code",
      "source": [
        "df['EVENTO_PREPONDERANTE'].unique()"
      ],
      "metadata": {
        "id": "R_7P-H3qPP1b"
      },
      "execution_count": null,
      "outputs": []
    },
    {
      "cell_type": "code",
      "source": [
        "df.shape"
      ],
      "metadata": {
        "id": "G5TPZ5L1SnhP"
      },
      "execution_count": null,
      "outputs": []
    },
    {
      "cell_type": "markdown",
      "source": [
        "Retirar espaços em branco do início e do final dos nomes (caso haja):"
      ],
      "metadata": {
        "id": "t9YoMRb30cSs"
      }
    },
    {
      "cell_type": "code",
      "source": [
        "df['NM_RAZAO_SOCIAL'] = df['NM_RAZAO_SOCIAL'].str.strip()\n",
        "df['NM_CULTURA_GLOBAL'] = df['NM_CULTURA_GLOBAL'].str.strip()"
      ],
      "metadata": {
        "id": "82dEzlnUICUf"
      },
      "execution_count": null,
      "outputs": []
    },
    {
      "cell_type": "markdown",
      "source": [
        "Uso do *groupby*:"
      ],
      "metadata": {
        "id": "paxeMsBIMx0Q"
      }
    },
    {
      "cell_type": "code",
      "source": [
        "df.groupby('SG_UF_PROPRIEDADE')['VL_PREMIO_LIQUIDO'].sum()"
      ],
      "metadata": {
        "id": "h5FV6CacM6SG"
      },
      "execution_count": null,
      "outputs": []
    },
    {
      "cell_type": "markdown",
      "source": [
        "Calcular o índice de sinistralidade:\n",
        "\n",
        "O índice de sinistralidade mede (em %) a participação do valor\n",
        "total das indenizações pagas aos produtores rurais em decorrência de sinistros em relação ao valor do prêmio total arrecadado pelas seguradoras. O valor limite de 65% é tido como um índice de sinistralidade aceitável. O índice de sinistralidade permite que se façam inferências sobre o equilíbrio atuarial das operações\n",
        "de seguro rural."
      ],
      "metadata": {
        "id": "tTuFt4WNlZsq"
      }
    },
    {
      "cell_type": "code",
      "source": [
        "df['VALOR_INDENIZAÇÃO'].sum() / df['VL_PREMIO_LIQUIDO'].sum() * 100"
      ],
      "metadata": {
        "id": "kMOnvxWMLqGQ"
      },
      "execution_count": null,
      "outputs": []
    },
    {
      "cell_type": "code",
      "source": [
        "df.columns"
      ],
      "metadata": {
        "id": "r9qgj2PpVtqF"
      },
      "execution_count": null,
      "outputs": []
    },
    {
      "cell_type": "markdown",
      "source": [
        "Obs.: Valores monetários estão expressos em R$mil"
      ],
      "metadata": {
        "id": "80oU9cxhWFKV"
      }
    },
    {
      "cell_type": "code",
      "source": [
        "df.columns = ['seguradora', 'nome_mun', 'uf',\n",
        "              'tipo', 'cultura', 'area', 'animal',\n",
        "              'prod_est', 'prod_seg', 'nivel_cob',\n",
        "              'total_seg', 'premio', 'taxa',\n",
        "              'subvencao', 'apolice', 'mun', 'indenizacao',\n",
        "              'evento', 'duracao']"
      ],
      "metadata": {
        "id": "xkKdODVHluEG"
      },
      "execution_count": null,
      "outputs": []
    },
    {
      "cell_type": "code",
      "source": [
        "df.info()"
      ],
      "metadata": {
        "id": "x4xif8Vgupbj"
      },
      "execution_count": null,
      "outputs": []
    },
    {
      "cell_type": "code",
      "source": [
        "# transformar o código do município para inteiro\n",
        "df['mun'] = df['mun'].astype(int)"
      ],
      "metadata": {
        "id": "10eg8AuCudlq"
      },
      "execution_count": null,
      "outputs": []
    },
    {
      "cell_type": "markdown",
      "source": [
        "Criar coluna de sinistralidade média:"
      ],
      "metadata": {
        "id": "s17Iw2DCnMeh"
      }
    },
    {
      "cell_type": "code",
      "source": [
        "df['sinistralidade'] = df['indenizacao'] / df['premio']"
      ],
      "metadata": {
        "id": "dvE6RU8fnLwN"
      },
      "execution_count": null,
      "outputs": []
    },
    {
      "cell_type": "code",
      "source": [
        "df.sample(10)"
      ],
      "metadata": {
        "id": "3ulpW8G1otSh"
      },
      "execution_count": null,
      "outputs": []
    },
    {
      "cell_type": "markdown",
      "source": [
        "Criar nova coluna chamada sinistro, cujo valor será 0 se a coluna 'evento' for 0, ou seja, não houve sinistro, ou será 1 se tiver algum conteúdo diferente de 0."
      ],
      "metadata": {
        "id": "m9tq9u4FeRNy"
      }
    },
    {
      "cell_type": "code",
      "source": [
        "df['sinistro'] = np.where(df['evento'].str.isnumeric(), 0, 1)"
      ],
      "metadata": {
        "id": "n6h8YHWjeFO1"
      },
      "execution_count": null,
      "outputs": []
    },
    {
      "cell_type": "code",
      "source": [
        "df.describe()"
      ],
      "metadata": {
        "id": "WMrIEZmjeFLV"
      },
      "execution_count": null,
      "outputs": []
    },
    {
      "cell_type": "markdown",
      "source": [
        "Organizar as variáveis usando .loc:"
      ],
      "metadata": {
        "id": "9s24tSH4SF-T"
      }
    },
    {
      "cell_type": "code",
      "source": [
        "df = df.loc[:, ['apolice', 'mun', 'nome_mun', 'uf', 'seguradora', 'tipo',\n",
        "                'cultura', 'area', 'animal', 'duracao',\n",
        "                'prod_est', 'prod_seg', 'nivel_cob', 'total_seg',\n",
        "                'premio', 'taxa', 'subvencao', 'indenizacao',\n",
        "                'evento', 'sinistro', 'sinistralidade']]"
      ],
      "metadata": {
        "id": "wxJ_wYNvSDht"
      },
      "execution_count": null,
      "outputs": []
    },
    {
      "cell_type": "code",
      "source": [
        "df.info()"
      ],
      "metadata": {
        "id": "PQggnR3JpA_6"
      },
      "execution_count": null,
      "outputs": []
    },
    {
      "cell_type": "markdown",
      "source": [
        "Ordenar os dados:"
      ],
      "metadata": {
        "id": "1exq_R66RLSx"
      }
    },
    {
      "cell_type": "code",
      "source": [
        "df.sort_values('premio')"
      ],
      "metadata": {
        "id": "7omi0uEbRPby"
      },
      "execution_count": null,
      "outputs": []
    },
    {
      "cell_type": "code",
      "source": [
        "df.columns"
      ],
      "metadata": {
        "id": "XHyIyvhfRPYP"
      },
      "execution_count": null,
      "outputs": []
    },
    {
      "cell_type": "code",
      "source": [
        "df[['nome_mun', 'uf', 'subvencao']].sort_values('subvencao', ascending=False)"
      ],
      "metadata": {
        "id": "Kfz_XRnARPU3"
      },
      "execution_count": null,
      "outputs": []
    },
    {
      "cell_type": "markdown",
      "source": [
        "## Salvar os dados"
      ],
      "metadata": {
        "id": "HFoe9BJjzB4Z"
      }
    },
    {
      "cell_type": "markdown",
      "source": [
        "Podemos salvar os dados de 2021 com as alterações que fizemos."
      ],
      "metadata": {
        "id": "FtYkqG-FXTMk"
      }
    },
    {
      "cell_type": "code",
      "source": [
        "# checar o dataframe\n",
        "df.shape"
      ],
      "metadata": {
        "id": "EpHvshMDhOqi"
      },
      "execution_count": null,
      "outputs": []
    },
    {
      "cell_type": "markdown",
      "source": [
        "Se eu li os dados a partir do *google drive*, o arquivo será salvo lá. Senão, ele aparecerá no próprio ambiente colab (à esquerda)."
      ],
      "metadata": {
        "id": "baiDXsQPhedZ"
      }
    },
    {
      "cell_type": "code",
      "source": [
        "# salvar o dataframe como xlsx\n",
        "df.to_excel(\"seguro-rural-2021.xlsx\", index=False)"
      ],
      "metadata": {
        "id": "B5s7HX_0sn7h"
      },
      "execution_count": null,
      "outputs": []
    },
    {
      "cell_type": "code",
      "source": [
        "# se quiser salvar o dataframe como csv\n",
        "# df.to_csv(\"seguro-rural-2021.csv\", index=False, encoding='latin1')"
      ],
      "metadata": {
        "id": "pW2EyWPAXTMl"
      },
      "execution_count": null,
      "outputs": []
    },
    {
      "cell_type": "markdown",
      "source": [
        "## Verificar se os dados serão lidos corretamente:"
      ],
      "metadata": {
        "id": "hiL-ye57KIqQ"
      }
    },
    {
      "cell_type": "code",
      "source": [
        "# demora um pouco\n",
        "drive.mount('/content/drive')\n",
        "os.chdir('/content/drive/My Drive/')\n",
        "dados = pd.read_excel(\"seguro-rural-2021.xlsx\")"
      ],
      "metadata": {
        "id": "PqoCgBHoh4lC"
      },
      "execution_count": null,
      "outputs": []
    },
    {
      "cell_type": "code",
      "source": [
        "dados.shape"
      ],
      "metadata": {
        "id": "bEXLEXaqh9uc"
      },
      "execution_count": null,
      "outputs": []
    },
    {
      "cell_type": "code",
      "source": [
        "dados.sample(10)"
      ],
      "metadata": {
        "id": "-yIRqkA0h_mu"
      },
      "execution_count": null,
      "outputs": []
    },
    {
      "cell_type": "code",
      "source": [],
      "metadata": {
        "id": "Mq6Nqwu8rehW"
      },
      "execution_count": null,
      "outputs": []
    }
  ]
}