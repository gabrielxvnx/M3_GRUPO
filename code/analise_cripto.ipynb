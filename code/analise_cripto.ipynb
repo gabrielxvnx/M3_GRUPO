{
  "nbformat": 4,
  "nbformat_minor": 0,
  "metadata": {
    "colab": {
      "provenance": [],
      "toc_visible": true
    },
    "kernelspec": {
      "name": "python3",
      "display_name": "Python 3"
    },
    "language_info": {
      "name": "python"
    }
  },
  "cells": [
    {
      "cell_type": "markdown",
      "source": [
        "#<font color = \"orange\" size=\"5rem\">**ANÁLISE EXPLORATÓRIA CRIPTOMOEDAS**"
      ],
      "metadata": {
        "id": "egiaroDVHBTg"
      }
    },
    {
      "cell_type": "markdown",
      "source": [
        "###**SOBRE O PROJETO**\n",
        "\n",
        "Esse é um projeto integrador, nós vamos utilizar\n",
        "todas as ferramentas e conhecimentos trabalhados ao\n",
        "longo do curso.\n",
        "\n",
        "**CONTEXTO**\n",
        "\n",
        "Criptomoedas são moedas digitais descentralizadas baseadas em criptografia, que\n",
        "operam em uma rede blockchain que permite transações seguras e transparentes\n",
        "sem a necessidade de intermediários, como bancos. Elas fazem parte do mundo\n",
        "digital, afetam a economia atual e são consideradas altamente voláteis.\n",
        "Por isso, você e seu squad foram escalados por uma corretora financeira para\n",
        "realizar uma análise exploratória relacionada à série histórica dos valores de\n",
        "criptomoedas."
      ],
      "metadata": {
        "id": "zcipdS9dHNlQ"
      }
    },
    {
      "cell_type": "markdown",
      "source": [
        "### **O que é pra fazer?**"
      ],
      "metadata": {
        "id": "LtlcsedgHjt8"
      }
    },
    {
      "cell_type": "markdown",
      "source": [
        "Realizar uma análise exploratória histórica dos valores de\n",
        "criptomoedas.\n",
        "As fontes de dados que serão utilizadas no projeto estão\n",
        "disponíveis no [Kaggle](https://www.kaggle.com/datasets/sudalairajkumar/cryptocurrencypricehistory).\n",
        "\n"
      ],
      "metadata": {
        "id": "PJxvdcveHqbg"
      }
    },
    {
      "cell_type": "markdown",
      "source": [
        "### **Detalhes do projeto**"
      ],
      "metadata": {
        "id": "j02xvF8rII__"
      }
    },
    {
      "cell_type": "markdown",
      "source": [
        "A análise deverá responder às seguintes perguntas:\n",
        "1. Como se comportaram os valores para todas as criptomoedas? Os valores tiveram uma\n",
        "tendência de queda ou de aumento?\n",
        "2. Quais os valores médios para todas as criptomoedas?\n",
        "3. Em quais anos houve maiores quedas e valorizações?\n",
        "4. Existe alguma tendência de aumento ou queda dos valores pelo dia da semana?\n",
        "5. Qual moeda se mostra mais interessante em relação à valorização pela análise da série\n",
        "histórica?\n",
        "6. Qual moeda se mostra menos interessante em relação à valorização pela análise da série\n",
        "histórica?\n",
        "7. Existe correlação entre os valores para todas as criptomoedas?"
      ],
      "metadata": {
        "id": "joTBzYcAH1c2"
      }
    },
    {
      "cell_type": "markdown",
      "source": [
        "#<font color = \"orange\" size=\"5rem\">**Importando bibliotecas**"
      ],
      "metadata": {
        "id": "k8ZP7qCyvkDI"
      }
    },
    {
      "cell_type": "code",
      "execution_count": 25,
      "metadata": {
        "id": "TgmJ0Ugwvcis"
      },
      "outputs": [],
      "source": [
        "\n",
        "import pandas as pd # pip install pandas\n",
        "import numpy as np # pip install numpy\n",
        "import seaborn as sns # pip install seaborn\n",
        "import matplotlib.pyplot as plt # pip install matplotlib\n",
        "import warnings"
      ]
    },
    {
      "cell_type": "markdown",
      "source": [
        "#<font color = \"orange\" size=\"5rem\">**Tratando e Carregando Dados**\n",
        "\n",
        "> 23 Datasets disponibilizados pelo link do Kaggle"
      ],
      "metadata": {
        "id": "T1j0pSasvndw"
      }
    },
    {
      "cell_type": "markdown",
      "source": [
        "### Lendo os datasets"
      ],
      "metadata": {
        "id": "iW6j_mroJ8WA"
      }
    },
    {
      "cell_type": "code",
      "source": [
        "aave = pd.read_csv('https://raw.githubusercontent.com/gabrielxvnx/M3_GRUPO/main/data/coin_Aave.csv')\n",
        "binance_coin = pd.read_csv('https://github.com/gabrielxvnx/M3_GRUPO/raw/main/data/coin_BinanceCoin.csv')\n",
        "bitcoin = pd.read_csv('https://github.com/gabrielxvnx/M3_GRUPO/raw/main/data/coin_Bitcoin.csv')\n",
        "cardano = pd.read_csv('https://github.com/gabrielxvnx/M3_GRUPO/raw/main/data/coin_Cardano.csv')\n",
        "chainlink = pd.read_csv('https://github.com/gabrielxvnx/M3_GRUPO/raw/main/data/coin_ChainLink.csv')\n",
        "cosmos = pd.read_csv('https://github.com/gabrielxvnx/M3_GRUPO/raw/main/data/coin_Cosmos.csv')\n",
        "crypto_com_coin = pd.read_csv('https://github.com/gabrielxvnx/M3_GRUPO/raw/main/data/coin_CryptocomCoin.csv')\n",
        "dogecoin = pd.read_csv('https://github.com/gabrielxvnx/M3_GRUPO/raw/main/data/coin_Dogecoin.csv')\n",
        "eos = pd.read_csv('https://github.com/gabrielxvnx/M3_GRUPO/raw/main/data/coin_EOS.csv')\n",
        "ethereum = pd.read_csv('https://github.com/gabrielxvnx/M3_GRUPO/raw/main/data/coin_Ethereum.csv')\n",
        "iota = pd.read_csv('https://github.com/gabrielxvnx/M3_GRUPO/raw/main/data/coin_Iota.csv')\n",
        "litecoin = pd.read_csv('https://github.com/gabrielxvnx/M3_GRUPO/raw/main/data/coin_Litecoin.csv')\n",
        "monero = pd.read_csv('https://github.com/gabrielxvnx/M3_GRUPO/raw/main/data/coin_Monero.csv')\n",
        "nem = pd.read_csv('https://github.com/gabrielxvnx/M3_GRUPO/raw/main/data/coin_NEM.csv')\n",
        "polkadot = pd.read_csv('https://github.com/gabrielxvnx/M3_GRUPO/raw/main/data/coin_Polkadot.csv')\n",
        "solana = pd.read_csv('https://github.com/gabrielxvnx/M3_GRUPO/raw/main/data/coin_Solana.csv')\n",
        "stellar = pd.read_csv('https://github.com/gabrielxvnx/M3_GRUPO/raw/main/data/coin_Stellar.csv')\n",
        "tether = pd.read_csv('https://github.com/gabrielxvnx/M3_GRUPO/raw/main/data/coin_Tether.csv')\n",
        "tron = pd.read_csv('https://github.com/gabrielxvnx/M3_GRUPO/raw/main/data/coin_Tron.csv')\n",
        "uniswap = pd.read_csv('https://github.com/gabrielxvnx/M3_GRUPO/raw/main/data/coin_Uniswap.csv')\n",
        "usdcoin = pd.read_csv('https://github.com/gabrielxvnx/M3_GRUPO/raw/main/data/coin_USDCoin.csv')\n",
        "wrapped_bitcoin = pd.read_csv('https://github.com/gabrielxvnx/M3_GRUPO/raw/main/data/coin_WrappedBitcoin.csv')\n",
        "xrp = pd.read_csv('https://github.com/gabrielxvnx/M3_GRUPO/raw/main/data/coin_XRP.csv')\n"
      ],
      "metadata": {
        "id": "WEY5_15Uv32o"
      },
      "execution_count": null,
      "outputs": []
    },
    {
      "cell_type": "markdown",
      "source": [
        "### ***Unindo todos os datasets em 1 dataframe.***"
      ],
      "metadata": {
        "id": "xJzqFmcPv5t4"
      }
    },
    {
      "cell_type": "code",
      "source": [
        "# Concatenando Datasets\n",
        "cripto = pd.concat([aave, binance_coin, bitcoin, cardano, chainlink, cosmos, crypto_com_coin, dogecoin, eos, ethereum, iota, litecoin, monero, nem, polkadot, solana, stellar, tether, tron, uniswap, usdcoin, wrapped_bitcoin, xrp], ignore_index=True)"
      ],
      "metadata": {
        "id": "yUeUWPk4v-EJ"
      },
      "execution_count": null,
      "outputs": []
    },
    {
      "cell_type": "markdown",
      "source": [
        "### ***Limpeza dos Dados***"
      ],
      "metadata": {
        "id": "0XE0l3I8wAGQ"
      }
    },
    {
      "cell_type": "code",
      "source": [
        "#Convertendo para conter somente a Data\n",
        "cripto['Date'] = pd.to_datetime(cripto['Date']).dt.date"
      ],
      "metadata": {
        "id": "5cfexNo1wCeo"
      },
      "execution_count": null,
      "outputs": []
    },
    {
      "cell_type": "code",
      "source": [
        "# Removendo Colunas que não utilizaremos\n",
        "del cripto['SNo']"
      ],
      "metadata": {
        "id": "kg8veHYcwOyZ"
      },
      "execution_count": null,
      "outputs": []
    },
    {
      "cell_type": "code",
      "source": [
        "## Traduzindo Colunas\n",
        "traducao = {\"Name\": \"nome\",\n",
        "            \"Date\": \"data\",\n",
        "            \"High\": \"alta\",\n",
        "            \"Low\": \"baixa\",\n",
        "            \"Open\": \"abertura\",\n",
        "            \"Close\": \"fechamento\",\n",
        "            \"Volume\": \"volume\",\n",
        "            \"Symbol\": \"simbolo\",\n",
        "            \"Marketcap\": \"marketcap\",} # Gerando dicionario para tradução\n",
        "cripto.rename(columns=traducao, inplace=True)# Renomeando"
      ],
      "metadata": {
        "id": "S4r0k9ApwQPx"
      },
      "execution_count": null,
      "outputs": []
    },
    {
      "cell_type": "markdown",
      "source": [
        "## Formantando valores"
      ],
      "metadata": {
        "id": "CJZ4ihnVwX0o"
      }
    },
    {
      "cell_type": "code",
      "source": [
        "cripto.dtypes"
      ],
      "metadata": {
        "id": "Mp-dzfjWwSHo",
        "colab": {
          "base_uri": "https://localhost:8080/"
        },
        "outputId": "0a925cef-53a2-47e9-d721-2aa71d1773eb"
      },
      "execution_count": null,
      "outputs": [
        {
          "output_type": "execute_result",
          "data": {
            "text/plain": [
              "Moeda          object\n",
              "Symbol         object\n",
              "Data           object\n",
              "Alta          float64\n",
              "Baixa         float64\n",
              "Abertura      float64\n",
              "Fechamento    float64\n",
              "Volume        float64\n",
              "Marketcap     float64\n",
              "dtype: object"
            ]
          },
          "metadata": {},
          "execution_count": 18
        }
      ]
    },
    {
      "cell_type": "code",
      "source": [
        "format = lambda x: '%.2f' % x # %x (aplica no x)\n",
        "cripto[['Alta', 'Baixa', 'Abertura', 'Fechamento', 'Volume', 'Marketcap']] = cripto[['Alta', 'Baixa', 'Abertura', 'Fechamento', 'Volume', 'Marketcap']].applymap(format)\n",
        "cripto[['Alta', 'Baixa', 'Abertura', 'Fechamento', 'Volume', 'Marketcap']] = cripto[['Alta', 'Baixa', 'Abertura', 'Fechamento', 'Volume', 'Marketcap']].astype(float) # Reformatando os valores para float"
      ],
      "metadata": {
        "id": "zmW_LPI9wZ1R"
      },
      "execution_count": null,
      "outputs": []
    },
    {
      "cell_type": "code",
      "source": [
        "cripto.dtypes"
      ],
      "metadata": {
        "id": "zgXtbEZHwfXw",
        "colab": {
          "base_uri": "https://localhost:8080/"
        },
        "outputId": "51d9870c-c20c-4a4c-c9b2-e21d6868b371"
      },
      "execution_count": null,
      "outputs": [
        {
          "output_type": "execute_result",
          "data": {
            "text/plain": [
              "Moeda          object\n",
              "Symbol         object\n",
              "Data           object\n",
              "Alta          float64\n",
              "Baixa         float64\n",
              "Abertura      float64\n",
              "Fechamento    float64\n",
              "Volume        float64\n",
              "Marketcap     float64\n",
              "dtype: object"
            ]
          },
          "metadata": {},
          "execution_count": 20
        }
      ]
    },
    {
      "cell_type": "markdown",
      "source": [
        "## **Selecionando 10 criptomoedas:**"
      ],
      "metadata": {
        "id": "6FhxHHoLwh3I"
      }
    },
    {
      "cell_type": "code",
      "source": [
        "cripto_10 = ['Aave',\n",
        "'Binance Coin',\n",
        "'Cardano',\n",
        "'Dogecoin',\n",
        "'Ethereum',\n",
        "'Litecoin',\n",
        "'Monero',\n",
        "'Polkadot',\n",
        "'Stellar',\n",
        "'Uniswap'\n",
        "]"
      ],
      "metadata": {
        "id": "bTFvukjswi0h"
      },
      "execution_count": null,
      "outputs": []
    },
    {
      "cell_type": "code",
      "source": [
        "criptocopy = cripto[cripto['Moeda'].isin(cripto_10)].reset_index(drop=True) # Filtrando no DataFrame Original para pegar somente as moedas selecionadas\n",
        "criptocopy"
      ],
      "metadata": {
        "colab": {
          "base_uri": "https://localhost:8080/",
          "height": 423
        },
        "id": "ZpYYqL_6xg3D",
        "outputId": "55dd786e-9cbb-49d4-f118-3d1e66bca25f"
      },
      "execution_count": null,
      "outputs": [
        {
          "output_type": "execute_result",
          "data": {
            "text/plain": [
              "         Moeda Symbol        Data   Alta  Baixa  Abertura  Fechamento  \\\n",
              "0         Aave   AAVE  2020-10-05  55.11  49.79     52.68       53.22   \n",
              "1         Aave   AAVE  2020-10-06  53.40  40.73     53.29       42.40   \n",
              "2         Aave   AAVE  2020-10-07  42.41  35.97     42.40       40.08   \n",
              "3         Aave   AAVE  2020-10-08  44.90  36.70     39.89       43.76   \n",
              "4         Aave   AAVE  2020-10-09  47.57  43.29     43.76       46.82   \n",
              "...        ...    ...         ...    ...    ...       ...         ...   \n",
              "16738  Uniswap    UNI  2021-07-02  18.24  16.98     17.83       18.24   \n",
              "16739  Uniswap    UNI  2021-07-03  19.52  17.85     18.23       19.52   \n",
              "16740  Uniswap    UNI  2021-07-04  21.48  18.95     19.48       20.77   \n",
              "16741  Uniswap    UNI  2021-07-05  20.87  19.18     20.77       20.10   \n",
              "16742  Uniswap    UNI  2021-07-06  23.19  20.08     20.09       22.40   \n",
              "\n",
              "             Volume     Marketcap  \n",
              "0      0.000000e+00  8.912813e+07  \n",
              "1      5.830915e+05  7.101144e+07  \n",
              "2      6.828342e+05  6.713004e+07  \n",
              "3      1.658817e+06  2.202651e+08  \n",
              "4      8.155377e+05  2.356322e+08  \n",
              "...             ...           ...  \n",
              "16738  3.070457e+08  1.049364e+10  \n",
              "16739  3.448554e+08  1.146609e+10  \n",
              "16740  5.404909e+08  1.219861e+10  \n",
              "16741  5.452744e+08  1.180130e+10  \n",
              "16742  8.151239e+08  1.315501e+10  \n",
              "\n",
              "[16743 rows x 9 columns]"
            ],
            "text/html": [
              "\n",
              "  <div id=\"df-f80051ae-459b-45c1-90e3-fe151b3baf9b\" class=\"colab-df-container\">\n",
              "    <div>\n",
              "<style scoped>\n",
              "    .dataframe tbody tr th:only-of-type {\n",
              "        vertical-align: middle;\n",
              "    }\n",
              "\n",
              "    .dataframe tbody tr th {\n",
              "        vertical-align: top;\n",
              "    }\n",
              "\n",
              "    .dataframe thead th {\n",
              "        text-align: right;\n",
              "    }\n",
              "</style>\n",
              "<table border=\"1\" class=\"dataframe\">\n",
              "  <thead>\n",
              "    <tr style=\"text-align: right;\">\n",
              "      <th></th>\n",
              "      <th>Moeda</th>\n",
              "      <th>Symbol</th>\n",
              "      <th>Data</th>\n",
              "      <th>Alta</th>\n",
              "      <th>Baixa</th>\n",
              "      <th>Abertura</th>\n",
              "      <th>Fechamento</th>\n",
              "      <th>Volume</th>\n",
              "      <th>Marketcap</th>\n",
              "    </tr>\n",
              "  </thead>\n",
              "  <tbody>\n",
              "    <tr>\n",
              "      <th>0</th>\n",
              "      <td>Aave</td>\n",
              "      <td>AAVE</td>\n",
              "      <td>2020-10-05</td>\n",
              "      <td>55.11</td>\n",
              "      <td>49.79</td>\n",
              "      <td>52.68</td>\n",
              "      <td>53.22</td>\n",
              "      <td>0.000000e+00</td>\n",
              "      <td>8.912813e+07</td>\n",
              "    </tr>\n",
              "    <tr>\n",
              "      <th>1</th>\n",
              "      <td>Aave</td>\n",
              "      <td>AAVE</td>\n",
              "      <td>2020-10-06</td>\n",
              "      <td>53.40</td>\n",
              "      <td>40.73</td>\n",
              "      <td>53.29</td>\n",
              "      <td>42.40</td>\n",
              "      <td>5.830915e+05</td>\n",
              "      <td>7.101144e+07</td>\n",
              "    </tr>\n",
              "    <tr>\n",
              "      <th>2</th>\n",
              "      <td>Aave</td>\n",
              "      <td>AAVE</td>\n",
              "      <td>2020-10-07</td>\n",
              "      <td>42.41</td>\n",
              "      <td>35.97</td>\n",
              "      <td>42.40</td>\n",
              "      <td>40.08</td>\n",
              "      <td>6.828342e+05</td>\n",
              "      <td>6.713004e+07</td>\n",
              "    </tr>\n",
              "    <tr>\n",
              "      <th>3</th>\n",
              "      <td>Aave</td>\n",
              "      <td>AAVE</td>\n",
              "      <td>2020-10-08</td>\n",
              "      <td>44.90</td>\n",
              "      <td>36.70</td>\n",
              "      <td>39.89</td>\n",
              "      <td>43.76</td>\n",
              "      <td>1.658817e+06</td>\n",
              "      <td>2.202651e+08</td>\n",
              "    </tr>\n",
              "    <tr>\n",
              "      <th>4</th>\n",
              "      <td>Aave</td>\n",
              "      <td>AAVE</td>\n",
              "      <td>2020-10-09</td>\n",
              "      <td>47.57</td>\n",
              "      <td>43.29</td>\n",
              "      <td>43.76</td>\n",
              "      <td>46.82</td>\n",
              "      <td>8.155377e+05</td>\n",
              "      <td>2.356322e+08</td>\n",
              "    </tr>\n",
              "    <tr>\n",
              "      <th>...</th>\n",
              "      <td>...</td>\n",
              "      <td>...</td>\n",
              "      <td>...</td>\n",
              "      <td>...</td>\n",
              "      <td>...</td>\n",
              "      <td>...</td>\n",
              "      <td>...</td>\n",
              "      <td>...</td>\n",
              "      <td>...</td>\n",
              "    </tr>\n",
              "    <tr>\n",
              "      <th>16738</th>\n",
              "      <td>Uniswap</td>\n",
              "      <td>UNI</td>\n",
              "      <td>2021-07-02</td>\n",
              "      <td>18.24</td>\n",
              "      <td>16.98</td>\n",
              "      <td>17.83</td>\n",
              "      <td>18.24</td>\n",
              "      <td>3.070457e+08</td>\n",
              "      <td>1.049364e+10</td>\n",
              "    </tr>\n",
              "    <tr>\n",
              "      <th>16739</th>\n",
              "      <td>Uniswap</td>\n",
              "      <td>UNI</td>\n",
              "      <td>2021-07-03</td>\n",
              "      <td>19.52</td>\n",
              "      <td>17.85</td>\n",
              "      <td>18.23</td>\n",
              "      <td>19.52</td>\n",
              "      <td>3.448554e+08</td>\n",
              "      <td>1.146609e+10</td>\n",
              "    </tr>\n",
              "    <tr>\n",
              "      <th>16740</th>\n",
              "      <td>Uniswap</td>\n",
              "      <td>UNI</td>\n",
              "      <td>2021-07-04</td>\n",
              "      <td>21.48</td>\n",
              "      <td>18.95</td>\n",
              "      <td>19.48</td>\n",
              "      <td>20.77</td>\n",
              "      <td>5.404909e+08</td>\n",
              "      <td>1.219861e+10</td>\n",
              "    </tr>\n",
              "    <tr>\n",
              "      <th>16741</th>\n",
              "      <td>Uniswap</td>\n",
              "      <td>UNI</td>\n",
              "      <td>2021-07-05</td>\n",
              "      <td>20.87</td>\n",
              "      <td>19.18</td>\n",
              "      <td>20.77</td>\n",
              "      <td>20.10</td>\n",
              "      <td>5.452744e+08</td>\n",
              "      <td>1.180130e+10</td>\n",
              "    </tr>\n",
              "    <tr>\n",
              "      <th>16742</th>\n",
              "      <td>Uniswap</td>\n",
              "      <td>UNI</td>\n",
              "      <td>2021-07-06</td>\n",
              "      <td>23.19</td>\n",
              "      <td>20.08</td>\n",
              "      <td>20.09</td>\n",
              "      <td>22.40</td>\n",
              "      <td>8.151239e+08</td>\n",
              "      <td>1.315501e+10</td>\n",
              "    </tr>\n",
              "  </tbody>\n",
              "</table>\n",
              "<p>16743 rows × 9 columns</p>\n",
              "</div>\n",
              "    <div class=\"colab-df-buttons\">\n",
              "\n",
              "  <div class=\"colab-df-container\">\n",
              "    <button class=\"colab-df-convert\" onclick=\"convertToInteractive('df-f80051ae-459b-45c1-90e3-fe151b3baf9b')\"\n",
              "            title=\"Convert this dataframe to an interactive table.\"\n",
              "            style=\"display:none;\">\n",
              "\n",
              "  <svg xmlns=\"http://www.w3.org/2000/svg\" height=\"24px\" viewBox=\"0 -960 960 960\">\n",
              "    <path d=\"M120-120v-720h720v720H120Zm60-500h600v-160H180v160Zm220 220h160v-160H400v160Zm0 220h160v-160H400v160ZM180-400h160v-160H180v160Zm440 0h160v-160H620v160ZM180-180h160v-160H180v160Zm440 0h160v-160H620v160Z\"/>\n",
              "  </svg>\n",
              "    </button>\n",
              "\n",
              "  <style>\n",
              "    .colab-df-container {\n",
              "      display:flex;\n",
              "      gap: 12px;\n",
              "    }\n",
              "\n",
              "    .colab-df-convert {\n",
              "      background-color: #E8F0FE;\n",
              "      border: none;\n",
              "      border-radius: 50%;\n",
              "      cursor: pointer;\n",
              "      display: none;\n",
              "      fill: #1967D2;\n",
              "      height: 32px;\n",
              "      padding: 0 0 0 0;\n",
              "      width: 32px;\n",
              "    }\n",
              "\n",
              "    .colab-df-convert:hover {\n",
              "      background-color: #E2EBFA;\n",
              "      box-shadow: 0px 1px 2px rgba(60, 64, 67, 0.3), 0px 1px 3px 1px rgba(60, 64, 67, 0.15);\n",
              "      fill: #174EA6;\n",
              "    }\n",
              "\n",
              "    .colab-df-buttons div {\n",
              "      margin-bottom: 4px;\n",
              "    }\n",
              "\n",
              "    [theme=dark] .colab-df-convert {\n",
              "      background-color: #3B4455;\n",
              "      fill: #D2E3FC;\n",
              "    }\n",
              "\n",
              "    [theme=dark] .colab-df-convert:hover {\n",
              "      background-color: #434B5C;\n",
              "      box-shadow: 0px 1px 3px 1px rgba(0, 0, 0, 0.15);\n",
              "      filter: drop-shadow(0px 1px 2px rgba(0, 0, 0, 0.3));\n",
              "      fill: #FFFFFF;\n",
              "    }\n",
              "  </style>\n",
              "\n",
              "    <script>\n",
              "      const buttonEl =\n",
              "        document.querySelector('#df-f80051ae-459b-45c1-90e3-fe151b3baf9b button.colab-df-convert');\n",
              "      buttonEl.style.display =\n",
              "        google.colab.kernel.accessAllowed ? 'block' : 'none';\n",
              "\n",
              "      async function convertToInteractive(key) {\n",
              "        const element = document.querySelector('#df-f80051ae-459b-45c1-90e3-fe151b3baf9b');\n",
              "        const dataTable =\n",
              "          await google.colab.kernel.invokeFunction('convertToInteractive',\n",
              "                                                    [key], {});\n",
              "        if (!dataTable) return;\n",
              "\n",
              "        const docLinkHtml = 'Like what you see? Visit the ' +\n",
              "          '<a target=\"_blank\" href=https://colab.research.google.com/notebooks/data_table.ipynb>data table notebook</a>'\n",
              "          + ' to learn more about interactive tables.';\n",
              "        element.innerHTML = '';\n",
              "        dataTable['output_type'] = 'display_data';\n",
              "        await google.colab.output.renderOutput(dataTable, element);\n",
              "        const docLink = document.createElement('div');\n",
              "        docLink.innerHTML = docLinkHtml;\n",
              "        element.appendChild(docLink);\n",
              "      }\n",
              "    </script>\n",
              "  </div>\n",
              "\n",
              "\n",
              "<div id=\"df-ec3c7152-86b2-4088-920c-b50cf0f947d6\">\n",
              "  <button class=\"colab-df-quickchart\" onclick=\"quickchart('df-ec3c7152-86b2-4088-920c-b50cf0f947d6')\"\n",
              "            title=\"Suggest charts\"\n",
              "            style=\"display:none;\">\n",
              "\n",
              "<svg xmlns=\"http://www.w3.org/2000/svg\" height=\"24px\"viewBox=\"0 0 24 24\"\n",
              "     width=\"24px\">\n",
              "    <g>\n",
              "        <path d=\"M19 3H5c-1.1 0-2 .9-2 2v14c0 1.1.9 2 2 2h14c1.1 0 2-.9 2-2V5c0-1.1-.9-2-2-2zM9 17H7v-7h2v7zm4 0h-2V7h2v10zm4 0h-2v-4h2v4z\"/>\n",
              "    </g>\n",
              "</svg>\n",
              "  </button>\n",
              "\n",
              "<style>\n",
              "  .colab-df-quickchart {\n",
              "      --bg-color: #E8F0FE;\n",
              "      --fill-color: #1967D2;\n",
              "      --hover-bg-color: #E2EBFA;\n",
              "      --hover-fill-color: #174EA6;\n",
              "      --disabled-fill-color: #AAA;\n",
              "      --disabled-bg-color: #DDD;\n",
              "  }\n",
              "\n",
              "  [theme=dark] .colab-df-quickchart {\n",
              "      --bg-color: #3B4455;\n",
              "      --fill-color: #D2E3FC;\n",
              "      --hover-bg-color: #434B5C;\n",
              "      --hover-fill-color: #FFFFFF;\n",
              "      --disabled-bg-color: #3B4455;\n",
              "      --disabled-fill-color: #666;\n",
              "  }\n",
              "\n",
              "  .colab-df-quickchart {\n",
              "    background-color: var(--bg-color);\n",
              "    border: none;\n",
              "    border-radius: 50%;\n",
              "    cursor: pointer;\n",
              "    display: none;\n",
              "    fill: var(--fill-color);\n",
              "    height: 32px;\n",
              "    padding: 0;\n",
              "    width: 32px;\n",
              "  }\n",
              "\n",
              "  .colab-df-quickchart:hover {\n",
              "    background-color: var(--hover-bg-color);\n",
              "    box-shadow: 0 1px 2px rgba(60, 64, 67, 0.3), 0 1px 3px 1px rgba(60, 64, 67, 0.15);\n",
              "    fill: var(--button-hover-fill-color);\n",
              "  }\n",
              "\n",
              "  .colab-df-quickchart-complete:disabled,\n",
              "  .colab-df-quickchart-complete:disabled:hover {\n",
              "    background-color: var(--disabled-bg-color);\n",
              "    fill: var(--disabled-fill-color);\n",
              "    box-shadow: none;\n",
              "  }\n",
              "\n",
              "  .colab-df-spinner {\n",
              "    border: 2px solid var(--fill-color);\n",
              "    border-color: transparent;\n",
              "    border-bottom-color: var(--fill-color);\n",
              "    animation:\n",
              "      spin 1s steps(1) infinite;\n",
              "  }\n",
              "\n",
              "  @keyframes spin {\n",
              "    0% {\n",
              "      border-color: transparent;\n",
              "      border-bottom-color: var(--fill-color);\n",
              "      border-left-color: var(--fill-color);\n",
              "    }\n",
              "    20% {\n",
              "      border-color: transparent;\n",
              "      border-left-color: var(--fill-color);\n",
              "      border-top-color: var(--fill-color);\n",
              "    }\n",
              "    30% {\n",
              "      border-color: transparent;\n",
              "      border-left-color: var(--fill-color);\n",
              "      border-top-color: var(--fill-color);\n",
              "      border-right-color: var(--fill-color);\n",
              "    }\n",
              "    40% {\n",
              "      border-color: transparent;\n",
              "      border-right-color: var(--fill-color);\n",
              "      border-top-color: var(--fill-color);\n",
              "    }\n",
              "    60% {\n",
              "      border-color: transparent;\n",
              "      border-right-color: var(--fill-color);\n",
              "    }\n",
              "    80% {\n",
              "      border-color: transparent;\n",
              "      border-right-color: var(--fill-color);\n",
              "      border-bottom-color: var(--fill-color);\n",
              "    }\n",
              "    90% {\n",
              "      border-color: transparent;\n",
              "      border-bottom-color: var(--fill-color);\n",
              "    }\n",
              "  }\n",
              "</style>\n",
              "\n",
              "  <script>\n",
              "    async function quickchart(key) {\n",
              "      const quickchartButtonEl =\n",
              "        document.querySelector('#' + key + ' button');\n",
              "      quickchartButtonEl.disabled = true;  // To prevent multiple clicks.\n",
              "      quickchartButtonEl.classList.add('colab-df-spinner');\n",
              "      try {\n",
              "        const charts = await google.colab.kernel.invokeFunction(\n",
              "            'suggestCharts', [key], {});\n",
              "      } catch (error) {\n",
              "        console.error('Error during call to suggestCharts:', error);\n",
              "      }\n",
              "      quickchartButtonEl.classList.remove('colab-df-spinner');\n",
              "      quickchartButtonEl.classList.add('colab-df-quickchart-complete');\n",
              "    }\n",
              "    (() => {\n",
              "      let quickchartButtonEl =\n",
              "        document.querySelector('#df-ec3c7152-86b2-4088-920c-b50cf0f947d6 button');\n",
              "      quickchartButtonEl.style.display =\n",
              "        google.colab.kernel.accessAllowed ? 'block' : 'none';\n",
              "    })();\n",
              "  </script>\n",
              "</div>\n",
              "\n",
              "  <div id=\"id_9643159c-8a3c-4ece-ba6c-676049984cef\">\n",
              "    <style>\n",
              "      .colab-df-generate {\n",
              "        background-color: #E8F0FE;\n",
              "        border: none;\n",
              "        border-radius: 50%;\n",
              "        cursor: pointer;\n",
              "        display: none;\n",
              "        fill: #1967D2;\n",
              "        height: 32px;\n",
              "        padding: 0 0 0 0;\n",
              "        width: 32px;\n",
              "      }\n",
              "\n",
              "      .colab-df-generate:hover {\n",
              "        background-color: #E2EBFA;\n",
              "        box-shadow: 0px 1px 2px rgba(60, 64, 67, 0.3), 0px 1px 3px 1px rgba(60, 64, 67, 0.15);\n",
              "        fill: #174EA6;\n",
              "      }\n",
              "\n",
              "      [theme=dark] .colab-df-generate {\n",
              "        background-color: #3B4455;\n",
              "        fill: #D2E3FC;\n",
              "      }\n",
              "\n",
              "      [theme=dark] .colab-df-generate:hover {\n",
              "        background-color: #434B5C;\n",
              "        box-shadow: 0px 1px 3px 1px rgba(0, 0, 0, 0.15);\n",
              "        filter: drop-shadow(0px 1px 2px rgba(0, 0, 0, 0.3));\n",
              "        fill: #FFFFFF;\n",
              "      }\n",
              "    </style>\n",
              "    <button class=\"colab-df-generate\" onclick=\"generateWithVariable('criptocopy')\"\n",
              "            title=\"Generate code using this dataframe.\"\n",
              "            style=\"display:none;\">\n",
              "\n",
              "  <svg xmlns=\"http://www.w3.org/2000/svg\" height=\"24px\"viewBox=\"0 0 24 24\"\n",
              "       width=\"24px\">\n",
              "    <path d=\"M7,19H8.4L18.45,9,17,7.55,7,17.6ZM5,21V16.75L18.45,3.32a2,2,0,0,1,2.83,0l1.4,1.43a1.91,1.91,0,0,1,.58,1.4,1.91,1.91,0,0,1-.58,1.4L9.25,21ZM18.45,9,17,7.55Zm-12,3A5.31,5.31,0,0,0,4.9,8.1,5.31,5.31,0,0,0,1,6.5,5.31,5.31,0,0,0,4.9,4.9,5.31,5.31,0,0,0,6.5,1,5.31,5.31,0,0,0,8.1,4.9,5.31,5.31,0,0,0,12,6.5,5.46,5.46,0,0,0,6.5,12Z\"/>\n",
              "  </svg>\n",
              "    </button>\n",
              "    <script>\n",
              "      (() => {\n",
              "      const buttonEl =\n",
              "        document.querySelector('#id_9643159c-8a3c-4ece-ba6c-676049984cef button.colab-df-generate');\n",
              "      buttonEl.style.display =\n",
              "        google.colab.kernel.accessAllowed ? 'block' : 'none';\n",
              "\n",
              "      buttonEl.onclick = () => {\n",
              "        google.colab.notebook.generateWithVariable('criptocopy');\n",
              "      }\n",
              "      })();\n",
              "    </script>\n",
              "  </div>\n",
              "\n",
              "    </div>\n",
              "  </div>\n"
            ],
            "application/vnd.google.colaboratory.intrinsic+json": {
              "type": "dataframe",
              "variable_name": "criptocopy",
              "summary": "{\n  \"name\": \"criptocopy\",\n  \"rows\": 16743,\n  \"fields\": [\n    {\n      \"column\": \"Moeda\",\n      \"properties\": {\n        \"dtype\": \"category\",\n        \"num_unique_values\": 10,\n        \"samples\": [\n          \"Stellar\",\n          \"Binance Coin\",\n          \"Litecoin\"\n        ],\n        \"semantic_type\": \"\",\n        \"description\": \"\"\n      }\n    },\n    {\n      \"column\": \"Symbol\",\n      \"properties\": {\n        \"dtype\": \"category\",\n        \"num_unique_values\": 10,\n        \"samples\": [\n          \"XLM\",\n          \"BNB\",\n          \"LTC\"\n        ],\n        \"semantic_type\": \"\",\n        \"description\": \"\"\n      }\n    },\n    {\n      \"column\": \"Data\",\n      \"properties\": {\n        \"dtype\": \"date\",\n        \"min\": \"2013-04-29\",\n        \"max\": \"2021-07-06\",\n        \"num_unique_values\": 2991,\n        \"samples\": [\n          \"2020-09-03\",\n          \"2015-04-03\",\n          \"2018-12-18\"\n        ],\n        \"semantic_type\": \"\",\n        \"description\": \"\"\n      }\n    },\n    {\n      \"column\": \"Alta\",\n      \"properties\": {\n        \"dtype\": \"number\",\n        \"std\": 267.2301362887492,\n        \"min\": 0.0,\n        \"max\": 4362.35,\n        \"num_unique_values\": 6694,\n        \"samples\": [\n          65.19,\n          16.15,\n          227.02\n        ],\n        \"semantic_type\": \"\",\n        \"description\": \"\"\n      }\n    },\n    {\n      \"column\": \"Baixa\",\n      \"properties\": {\n        \"dtype\": \"number\",\n        \"std\": 241.7537761797879,\n        \"min\": 0.0,\n        \"max\": 3785.85,\n        \"num_unique_values\": 6581,\n        \"samples\": [\n          9.55,\n          49.02,\n          281.78\n        ],\n        \"semantic_type\": \"\",\n        \"description\": \"\"\n      }\n    },\n    {\n      \"column\": \"Abertura\",\n      \"properties\": {\n        \"dtype\": \"number\",\n        \"std\": 255.39175044326473,\n        \"min\": 0.0,\n        \"max\": 4174.64,\n        \"num_unique_values\": 6675,\n        \"samples\": [\n          4.66,\n          5.13,\n          77.08\n        ],\n        \"semantic_type\": \"\",\n        \"description\": \"\"\n      }\n    },\n    {\n      \"column\": \"Fechamento\",\n      \"properties\": {\n        \"dtype\": \"number\",\n        \"std\": 255.97270766385083,\n        \"min\": 0.0,\n        \"max\": 4168.7,\n        \"num_unique_values\": 6669,\n        \"samples\": [\n          397.5,\n          295.81,\n          129.58\n        ],\n        \"semantic_type\": \"\",\n        \"description\": \"\"\n      }\n    },\n    {\n      \"column\": \"Volume\",\n      \"properties\": {\n        \"dtype\": \"number\",\n        \"std\": 4737613235.588353,\n        \"min\": 0.0,\n        \"max\": 84482912776.49,\n        \"num_unique_values\": 16480,\n        \"samples\": [\n          2871792311.36,\n          6968740.0,\n          33420.6\n        ],\n        \"semantic_type\": \"\",\n        \"description\": \"\"\n      }\n    },\n    {\n      \"column\": \"Marketcap\",\n      \"properties\": {\n        \"dtype\": \"number\",\n        \"std\": 29123170459.698444,\n        \"min\": 0.0,\n        \"max\": 482881900490.93,\n        \"num_unique_values\": 16732,\n        \"samples\": [\n          1168869216.29,\n          47792893.42,\n          14939106880.87\n        ],\n        \"semantic_type\": \"\",\n        \"description\": \"\"\n      }\n    }\n  ]\n}"
            }
          },
          "metadata": {},
          "execution_count": 22
        }
      ]
    },
    {
      "cell_type": "code",
      "source": [
        "criptocopy['Moeda'].unique() # Verificando as moedas selecionadas"
      ],
      "metadata": {
        "id": "PfV79CvLxIui",
        "colab": {
          "base_uri": "https://localhost:8080/"
        },
        "outputId": "71fcf2ee-a63f-4678-bd98-bc43b7492576"
      },
      "execution_count": null,
      "outputs": [
        {
          "output_type": "execute_result",
          "data": {
            "text/plain": [
              "array(['Aave', 'Binance Coin', 'Cardano', 'Dogecoin', 'Ethereum',\n",
              "       'Litecoin', 'Monero', 'Polkadot', 'Stellar', 'Uniswap'],\n",
              "      dtype=object)"
            ]
          },
          "metadata": {},
          "execution_count": 23
        }
      ]
    },
    {
      "cell_type": "code",
      "source": [
        "criptocopy.to_csv(\"allcoin.csv\", index=False)"
      ],
      "metadata": {
        "id": "Qxx-OQ5Zx0VC"
      },
      "execution_count": null,
      "outputs": []
    }
  ]
}